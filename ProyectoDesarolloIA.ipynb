{
  "nbformat": 4,
  "nbformat_minor": 0,
  "metadata": {
    "colab": {
      "provenance": []
    },
    "kernelspec": {
      "name": "python3",
      "display_name": "Python 3"
    },
    "language_info": {
      "name": "python"
    }
  },
  "cells": [
    {
      "cell_type": "markdown",
      "source": [
        "Modelo Transfer learning para proyecto de clasificacion de insecto (preguntar al profe sobre porque no funciona el modelo que se utiliza en este notebook en un entorno local)"
      ],
      "metadata": {
        "id": "I4TBFv7MGFE_"
      }
    },
    {
      "cell_type": "code",
      "execution_count": null,
      "metadata": {
        "colab": {
          "base_uri": "https://localhost:8080/"
        },
        "id": "gS_0KCyRzmOe",
        "outputId": "755fa456-b4a9-4a5e-ad98-09f11cc4227b"
      },
      "outputs": [
        {
          "output_type": "execute_result",
          "data": {
            "text/plain": [
              "['.config',\n",
              " 'insects.v2-release.multiclass.zip',\n",
              " 'README.roboflow.txt',\n",
              " 'mi_modelo.h5',\n",
              " 'mi_modelo_savedmodel',\n",
              " 'train',\n",
              " 'README.dataset.txt',\n",
              " 'test',\n",
              " 'valid',\n",
              " 'sample_data']"
            ]
          },
          "metadata": {},
          "execution_count": 7
        }
      ],
      "source": [
        "import zipfile\n",
        "import os\n",
        "zip_ref = zipfile.ZipFile('insects.v2-release.multiclass.zip', 'r')\n",
        "zip_ref.extractall('/content')\n",
        "zip_ref.close()\n",
        "os.listdir('/content')"
      ]
    },
    {
      "cell_type": "code",
      "source": [
        "import pandas as pd\n",
        "from tensorflow.keras.preprocessing.image import ImageDataGenerator\n",
        "\n",
        "\n",
        "train_df = pd.read_csv('/content/train/_classes.csv')\n",
        "valid_df = pd.read_csv('/content/valid/_classes.csv')\n",
        "test_df = pd.read_csv('/content/test/_classes.csv')"
      ],
      "metadata": {
        "id": "PRwBdTQV2Qsk"
      },
      "execution_count": null,
      "outputs": []
    },
    {
      "cell_type": "code",
      "source": [
        "\n",
        "train_df = pd.read_csv('/content/train/_classes.csv')\n",
        "print(train_df.head())\n"
      ],
      "metadata": {
        "colab": {
          "base_uri": "https://localhost:8080/"
        },
        "id": "U4GJLFCp4Frh",
        "outputId": "42a5179b-243e-4e44-d2dd-85254302add1"
      },
      "execution_count": null,
      "outputs": [
        {
          "output_type": "stream",
          "name": "stdout",
          "text": [
            "                                          filename   army worm  \\\n",
            "0  118_jpg.rf.33f3543dc18f61284c8c547271b971ee.jpg           0   \n",
            "1   48_jpg.rf.343afaa10fac0ce192d82bc237560b7d.jpg           0   \n",
            "2  135_jpg.rf.343c0d9db6b5760008f26cd22a9686a1.jpg           0   \n",
            "3   45_jpg.rf.353c0fa30afa6db870959deaa6cf7dea.jpg           0   \n",
            "4  139_jpg.rf.361b0984c39459ea357f7617448c818c.jpg           0   \n",
            "\n",
            "    legume blister beetle   red spider   rice gall midge   rice leaf roller  \\\n",
            "0                       0            0                 1                  0   \n",
            "1                       0            0                 0                  0   \n",
            "2                       0            1                 0                  0   \n",
            "3                       0            0                 0                  1   \n",
            "4                       0            0                 0                  0   \n",
            "\n",
            "    rice leafhopper   rice water weevil   wheat phloeothrips  \\\n",
            "0                 0                   0                    0   \n",
            "1                 0                   0                    0   \n",
            "2                 0                   0                    0   \n",
            "3                 0                   0                    0   \n",
            "4                 0                   0                    0   \n",
            "\n",
            "    white backed plant hopper   yellow rice borer  \n",
            "0                           0                   0  \n",
            "1                           0                   1  \n",
            "2                           0                   0  \n",
            "3                           0                   0  \n",
            "4                           1                   0  \n"
          ]
        }
      ]
    },
    {
      "cell_type": "code",
      "source": [
        "import pandas as pd\n",
        "from tensorflow.keras.preprocessing.image import ImageDataGenerator\n",
        "from tensorflow.keras.models import Sequential\n",
        "from tensorflow.keras.layers import Conv2D, MaxPooling2D, Flatten, Dense, Dropout\n",
        "from tensorflow.keras.callbacks import EarlyStopping, ReduceLROnPlateau\n",
        "from tensorflow.keras.regularizers import l2\n",
        "\n",
        "# Función para obtener etiquetas de un dataframe de one-hot encoding\n",
        "def get_label_from_one_hot(dataframe):\n",
        "    return dataframe.iloc[:, 2:].idxmax(axis=1)\n",
        "\n",
        "# Cargar los datos de los archivos CSV\n",
        "train_df = pd.read_csv('/content/train/_classes.csv')\n",
        "valid_df = pd.read_csv('/content/valid/_classes.csv')\n",
        "test_df = pd.read_csv('/content/test/_classes.csv')\n",
        "\n",
        "# Convertir los dataframes de one-hot a una columna de etiquetas categóricas\n",
        "train_df['label'] = get_label_from_one_hot(train_df)\n",
        "valid_df['label'] = get_label_from_one_hot(valid_df)\n",
        "test_df['label'] = get_label_from_one_hot(test_df)\n",
        "\n",
        "# Crear la columna 'filename' que tenga el path completo de las imágenes\n",
        "train_df['filename'] = train_df['filename'].apply(lambda x: f'/content/train/{x}')\n",
        "valid_df['filename'] = valid_df['filename'].apply(lambda x: f'/content/valid/{x}')\n",
        "test_df['filename'] = test_df['filename'].apply(lambda x: f'/content/test/{x}')\n",
        "\n",
        "# Aumento de datos para el generador de entrenamiento\n",
        "train_datagen = ImageDataGenerator(\n",
        "    rescale=1./255,\n",
        "    rotation_range=20,\n",
        "    width_shift_range=0.2,\n",
        "    height_shift_range=0.2,\n",
        "    shear_range=0.2,\n",
        "    zoom_range=0.2,\n",
        "    horizontal_flip=True,\n",
        "    fill_mode='nearest'\n",
        ")\n",
        "\n",
        "# reescalado para los generadores de validación y prueba\n",
        "test_datagen = ImageDataGenerator(rescale=1./255)\n",
        "\n",
        "# generadores\n",
        "train_generator = train_datagen.flow_from_dataframe(\n",
        "    dataframe=train_df,\n",
        "    x_col='filename',\n",
        "    y_col='label',\n",
        "    target_size=(150, 150),\n",
        "    batch_size=32,\n",
        "    class_mode='categorical'\n",
        ")\n",
        "\n",
        "valid_generator = test_datagen.flow_from_dataframe(\n",
        "    dataframe=valid_df,\n",
        "    x_col='filename',\n",
        "    y_col='label',\n",
        "    target_size=(150, 150),\n",
        "    batch_size=32,\n",
        "    class_mode='categorical'\n",
        ")\n",
        "\n",
        "test_generator = test_datagen.flow_from_dataframe(\n",
        "    dataframe=test_df,\n",
        "    x_col='filename',\n",
        "    y_col='label',\n",
        "    target_size=(150, 150),\n",
        "    batch_size=32,\n",
        "    class_mode='categorical',\n",
        "    shuffle=False\n",
        ")\n"
      ],
      "metadata": {
        "colab": {
          "base_uri": "https://localhost:8080/"
        },
        "id": "riH5lrvE3oky",
        "outputId": "3ca30172-ad82-43e1-f472-ef57f69ae34b"
      },
      "execution_count": null,
      "outputs": [
        {
          "output_type": "stream",
          "name": "stdout",
          "text": [
            "Found 696 validated image filenames belonging to 9 classes.\n",
            "Found 199 validated image filenames belonging to 9 classes.\n",
            "Found 100 validated image filenames belonging to 9 classes.\n"
          ]
        }
      ]
    },
    {
      "cell_type": "code",
      "source": [
        "from tensorflow.keras.applications import MobileNetV2\n",
        "from tensorflow.keras.layers import GlobalAveragePooling2D\n",
        "from tensorflow.keras.models import Model\n",
        "from tensorflow.keras.callbacks import EarlyStopping, ReduceLROnPlateau\n",
        "\n",
        "\n",
        "# Cargar MobileNetV2 preentrenado y excluir la capa superior\n",
        "base_model = MobileNetV2(weights='imagenet', include_top=False, input_shape=(150, 150, 3))\n",
        "\n",
        "# Congelar las capas del modelo base\n",
        "for layer in base_model.layers:\n",
        "    layer.trainable = False\n",
        "\n",
        "# Añadir nuevas capas personalizadas encima del modelo base\n",
        "x = base_model.output\n",
        "x = GlobalAveragePooling2D()(x)\n",
        "x = Dense(1024, activation='relu')(x)\n",
        "x = Dropout(0.5)(x)\n",
        "predictions = Dense(9, activation='softmax')(x)\n",
        "\n",
        "\n",
        "model = Model(inputs=base_model.input, outputs=predictions)\n",
        "\n",
        "model.compile(optimizer='adam', loss='categorical_crossentropy', metrics=['accuracy'])\n",
        "\n"
      ],
      "metadata": {
        "colab": {
          "base_uri": "https://localhost:8080/"
        },
        "id": "JKS94HIw-nKD",
        "outputId": "8fd69db0-e4c3-441c-ea33-f100aae65e44"
      },
      "execution_count": null,
      "outputs": [
        {
          "output_type": "stream",
          "name": "stderr",
          "text": [
            "WARNING:tensorflow:`input_shape` is undefined or non-square, or `rows` is not in [96, 128, 160, 192, 224]. Weights for input shape (224, 224) will be loaded as the default.\n"
          ]
        },
        {
          "output_type": "stream",
          "name": "stdout",
          "text": [
            "Downloading data from https://storage.googleapis.com/tensorflow/keras-applications/mobilenet_v2/mobilenet_v2_weights_tf_dim_ordering_tf_kernels_1.0_224_no_top.h5\n",
            "9406464/9406464 [==============================] - 0s 0us/step\n"
          ]
        }
      ]
    },
    {
      "cell_type": "code",
      "source": [
        "#callbacks\n",
        "from keras.callbacks import EarlyStopping\n",
        "\n",
        "early_stopping = EarlyStopping(monitor='val_loss', patience=3)\n",
        "\n",
        "from keras.callbacks import ReduceLROnPlateau\n",
        "\n",
        "reduce_lr = ReduceLROnPlateau(monitor='val_loss', factor=0)\n"
      ],
      "metadata": {
        "id": "kT2rwWqque2N"
      },
      "execution_count": 1,
      "outputs": []
    },
    {
      "cell_type": "code",
      "source": [
        "# Entrenar el modelo con los callbacks\n",
        "history = model.fit(\n",
        "    train_generator,\n",
        "    steps_per_epoch=train_generator.samples // train_generator.batch_size,\n",
        "    epochs=25,\n",
        "    validation_data=valid_generator,\n",
        "    validation_steps=valid_generator.samples // valid_generator.batch_size,\n",
        "    callbacks=[early_stopping, reduce_lr],\n",
        "    verbose=2\n",
        ")\n",
        "\n",
        "# Evaluar el modelo en el conjunto de prueba\n",
        "test_loss, test_accuracy = model.evaluate(test_generator)\n",
        "print(f'Test accuracy: {test_accuracy:.2f}, Test loss: {test_loss:.2f}')"
      ],
      "metadata": {
        "colab": {
          "base_uri": "https://localhost:8080/"
        },
        "id": "MUCkfPvZuYu1",
        "outputId": "c83949d2-37cb-4cfd-da00-36da6b4af483"
      },
      "execution_count": null,
      "outputs": [
        {
          "output_type": "stream",
          "name": "stdout",
          "text": [
            "Epoch 1/25\n",
            "21/21 - 13s - loss: 1.8469 - accuracy: 0.4910 - val_loss: 0.5275 - val_accuracy: 0.8333 - lr: 0.0010 - 13s/epoch - 615ms/step\n",
            "Epoch 2/25\n",
            "21/21 - 4s - loss: 0.8745 - accuracy: 0.7304 - val_loss: 0.3898 - val_accuracy: 0.8854 - lr: 0.0010 - 4s/epoch - 193ms/step\n",
            "Epoch 3/25\n",
            "21/21 - 4s - loss: 0.6356 - accuracy: 0.7997 - val_loss: 0.3800 - val_accuracy: 0.8750 - lr: 0.0010 - 4s/epoch - 187ms/step\n",
            "Epoch 4/25\n",
            "21/21 - 5s - loss: 0.4815 - accuracy: 0.8438 - val_loss: 0.3323 - val_accuracy: 0.8906 - lr: 0.0010 - 5s/epoch - 235ms/step\n",
            "Epoch 5/25\n",
            "21/21 - 4s - loss: 0.4575 - accuracy: 0.8509 - val_loss: 0.3917 - val_accuracy: 0.8594 - lr: 0.0010 - 4s/epoch - 187ms/step\n",
            "Epoch 6/25\n",
            "21/21 - 4s - loss: 0.4619 - accuracy: 0.8614 - val_loss: 0.3203 - val_accuracy: 0.9010 - lr: 0.0010 - 4s/epoch - 188ms/step\n",
            "Epoch 7/25\n",
            "21/21 - 5s - loss: 0.3329 - accuracy: 0.8991 - val_loss: 0.3190 - val_accuracy: 0.8906 - lr: 0.0010 - 5s/epoch - 246ms/step\n",
            "Epoch 8/25\n",
            "21/21 - 4s - loss: 0.3395 - accuracy: 0.8916 - val_loss: 0.3035 - val_accuracy: 0.9167 - lr: 0.0010 - 4s/epoch - 209ms/step\n",
            "Epoch 9/25\n",
            "21/21 - 5s - loss: 0.3645 - accuracy: 0.8916 - val_loss: 0.3135 - val_accuracy: 0.9219 - lr: 0.0010 - 5s/epoch - 217ms/step\n",
            "Epoch 10/25\n",
            "21/21 - 4s - loss: 0.3320 - accuracy: 0.8916 - val_loss: 0.3119 - val_accuracy: 0.9115 - lr: 0.0010 - 4s/epoch - 202ms/step\n",
            "Epoch 11/25\n",
            "21/21 - 4s - loss: 0.3635 - accuracy: 0.8825 - val_loss: 0.3430 - val_accuracy: 0.9010 - lr: 0.0010 - 4s/epoch - 187ms/step\n",
            "4/4 [==============================] - 1s 243ms/step - loss: 0.2986 - accuracy: 0.9200\n",
            "Test accuracy: 0.92, Test loss: 0.30\n"
          ]
        }
      ]
    },
    {
      "cell_type": "code",
      "source": [
        "#Guardar el modelo para descargarlo\n",
        "model.save('mi_modelo2.h5')\n"
      ],
      "metadata": {
        "id": "W2izNGEhIbiD",
        "colab": {
          "base_uri": "https://localhost:8080/"
        },
        "outputId": "6ed4b38f-b75e-4565-f4bf-766fd6d86761"
      },
      "execution_count": null,
      "outputs": [
        {
          "output_type": "stream",
          "name": "stderr",
          "text": [
            "/usr/local/lib/python3.10/dist-packages/keras/src/engine/training.py:3103: UserWarning: You are saving your model as an HDF5 file via `model.save()`. This file format is considered legacy. We recommend using instead the native Keras format, e.g. `model.save('my_model.keras')`.\n",
            "  saving_api.save_model(\n"
          ]
        }
      ]
    },
    {
      "cell_type": "code",
      "source": [
        "from tensorflow.keras.preprocessing.image import load_img, img_to_array\n",
        "from tensorflow.keras.models import load_model\n",
        "import numpy as np\n",
        "\n",
        "\n",
        "label_map = {v: k for k, v in train_generator.class_indices.items()}\n",
        "\n",
        "\n",
        "# model = load_model('mi_modelo.h5')\n",
        "\n",
        "def predict_image_class(image_path, model, label_map):\n",
        "    # Cargar y preprocesar la imagen\n",
        "    img = load_img(image_path, target_size=(150, 150))\n",
        "    img_array = img_to_array(img)\n",
        "    img_array = np.expand_dims(img_array, axis=0) / 255.0\n",
        "\n",
        "    # Hacer la predicción\n",
        "    predictions = model.predict(img_array)\n",
        "    pred_index = np.argmax(predictions, axis=1)[0]\n",
        "    pred_class = label_map[pred_index]\n",
        "\n",
        "    return pred_class\n",
        "\n",
        "\n",
        "test_image_path = '/content/test/113_jpg.rf.e7667502c16d6df0c7c57e0ef882f470.jpg'\n",
        "\n",
        "# Usar la función para predecir la clase de la imagen\n",
        "predicted_class = predict_image_class(test_image_path, model, label_map)\n",
        "print(f'La imagen es: {predicted_class}')\n"
      ],
      "metadata": {
        "colab": {
          "base_uri": "https://localhost:8080/"
        },
        "id": "6tKJWm-GMYkL",
        "outputId": "9fcecb6b-7a39-4fc9-cbda-87816c7052ec"
      },
      "execution_count": null,
      "outputs": [
        {
          "output_type": "stream",
          "name": "stdout",
          "text": [
            "1/1 [==============================] - 0s 23ms/step\n",
            "La imagen es:  red spider\n"
          ]
        }
      ]
    }
  ]
}